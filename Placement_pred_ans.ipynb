{
 "cells": [
  {
   "cell_type": "code",
   "execution_count": 4,
   "id": "cacabf78-0207-4c6c-87d1-7ab0c87a9c23",
   "metadata": {},
   "outputs": [],
   "source": [
    "import numpy as np\n",
    "import pandas as pd\n",
    "import pickle"
   ]
  },
  {
   "cell_type": "code",
   "execution_count": 6,
   "id": "ad9bb1c5-ef25-47ec-81e8-9a201cd7d51f",
   "metadata": {},
   "outputs": [],
   "source": [
    "pipe = pickle.load(open('model.pkl','rb'))"
   ]
  },
  {
   "cell_type": "code",
   "execution_count": 10,
   "id": "550eb28d-1d4d-4e34-b144-cce18bae4359",
   "metadata": {},
   "outputs": [],
   "source": [
    "test_inputs = [\n",
    "    [6.5, 130],  # Sample 1: cgpa=6.5, iq=130\n",
    "    [7.2, 145]   # Sample 2: cgpa=7.2, iq=145\n",
    "]"
   ]
  },
  {
   "cell_type": "code",
   "execution_count": null,
   "id": "6e09dfbf-3e73-4d38-8d5e-81a529957fda",
   "metadata": {},
   "outputs": [],
   "source": []
  }
 ],
 "metadata": {
  "kernelspec": {
   "display_name": "Python [conda env:base] *",
   "language": "python",
   "name": "conda-base-py"
  },
  "language_info": {
   "codemirror_mode": {
    "name": "ipython",
    "version": 3
   },
   "file_extension": ".py",
   "mimetype": "text/x-python",
   "name": "python",
   "nbconvert_exporter": "python",
   "pygments_lexer": "ipython3",
   "version": "3.12.2"
  }
 },
 "nbformat": 4,
 "nbformat_minor": 5
}
